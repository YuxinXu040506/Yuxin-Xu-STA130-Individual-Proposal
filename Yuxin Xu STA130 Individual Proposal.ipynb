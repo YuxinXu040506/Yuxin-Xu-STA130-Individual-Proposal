{
 "cells": [
  {
   "cell_type": "markdown",
   "id": "ee7c9afe",
   "metadata": {},
   "source": [
    "Individual Proposal by Vicky Xu\n"
   ]
  },
  {
   "cell_type": "markdown",
   "id": "c075f635",
   "metadata": {},
   "source": [
    "Expected group members: Yixuan Zhao, Xiaohan Ma, Yue Yu."
   ]
  },
  {
   "cell_type": "markdown",
   "id": "e892ef10",
   "metadata": {},
   "source": [
    "· Research question: Does the time of participation in social activities affect the level of happiness?"
   ]
  },
  {
   "cell_type": "markdown",
   "id": "98d533e1",
   "metadata": {},
   "source": [
    "In this research question I would explore whether the amount of social time influences the level of happiness. The independent variable would be social time and the dependent variable would be life satisfaction score(0-10). I would investigate in the relationship between social time and life satisfaction score with stastistical methods to figure out how social time influence the level of happiness."
   ]
  },
  {
   "cell_type": "markdown",
   "id": "40a86416",
   "metadata": {},
   "source": [
    "· Variables and how to explore on them"
   ]
  },
  {
   "cell_type": "markdown",
   "id": "2edb790d",
   "metadata": {},
   "source": [
    "I plan to choose the overall social time as the independent variable and the life satisfaction score as the dependent variable. Social interactions are known to be linked to psychological well-being, making this a relevant variable for understanding happiness levels. What's more, life satisfaction score is the outcome measure of happiness, allowing us to determine if increased social time correlates with higher happiness levels."
   ]
  },
  {
   "cell_type": "markdown",
   "id": "f99497a8",
   "metadata": {},
   "source": [
    "The plots and visualizations I am going to include in the exploration are scatter plots, box plots and histogram."
   ]
  },
  {
   "cell_type": "markdown",
   "id": "2e8ffdba",
   "metadata": {},
   "source": [
    "1.Scatter plot: Display social time on the x-axis and happiness scores on the y-axis to visually assess any correlation or trend between these two variables. This plot is appropriate for showing the relationship between a continuous independent variable and a continuous dependent variable."
   ]
  },
  {
   "cell_type": "markdown",
   "id": "362c2a41",
   "metadata": {},
   "source": [
    "2.Box plot: Box plots are useful for visualizing the median, quartiles, potential outliers and spread of data."
   ]
  },
  {
   "cell_type": "markdown",
   "id": "6b206ae8",
   "metadata": {},
   "source": [
    "3.Histogram: Separate histograms for social time and happiness scores can be used to understand their individual distributions and identify any skewness."
   ]
  },
  {
   "cell_type": "markdown",
   "id": "b6459ae9",
   "metadata": {},
   "source": [
    "· Analyses"
   ]
  },
  {
   "cell_type": "markdown",
   "id": "d7459475",
   "metadata": {},
   "source": [
    "1.Correlation analysis and linear regression analysis: Start with a correlation analysis to evaluate the strength and direction of the relationship between social time and life satisfaction score. We can calculate the Pearson correlation coefficient between social time and life satisfaction scores and visualize the data using a scatter plot to check for a potential linear trend."
   ]
  },
  {
   "cell_type": "markdown",
   "id": "40968bf2",
   "metadata": {},
   "source": [
    "If a significant correlation is found, proceed with a simple linear regression to quantify the effect of social time on life satisfaction score. This time we should fit a simple linear regression model and evaluate the regression coefficients. In addition, we need to check the residuals to confirm assumptions about the model , such as linearity, normal distribution of residuals, and homoscedasticity."
   ]
  },
  {
   "cell_type": "markdown",
   "id": "a92caf3c",
   "metadata": {},
   "source": [
    "2.Hypothesis testing: The goal of the hypothesis testing is to determine whether there is a statistically significant difference in happiness levels across different levels of social time."
   ]
  },
  {
   "cell_type": "markdown",
   "id": "37b6f31c",
   "metadata": {},
   "source": [
    "Null Hypothesis (H0): There is no significant difference in life satisfaction scores between individuals with different levels of social time."
   ]
  },
  {
   "cell_type": "markdown",
   "id": "d37ab270",
   "metadata": {},
   "source": [
    "Alternative Hypothesis (H1): There is a significant difference in life satisfaction scores between individuals with different levels of social time."
   ]
  },
  {
   "cell_type": "markdown",
   "id": "d1cb8176",
   "metadata": {},
   "source": [
    "Divide the social times into 3 different levels: low(0-10), medium(11-30), high(31+). Set the significance level at α=0.05, then calculate the means of each group and perform an ANOVA test to assess whether there is a significant difference among the group means. If p-value < α, reject the null hypothesis; If p-value > α, fail to reject the null hypothesis."
   ]
  },
  {
   "cell_type": "markdown",
   "id": "e5f97194",
   "metadata": {},
   "source": [
    "3.Confidence interval: Set a confidence level of 95% and use the formula to figure out the confidence interval.If the confidence interval does not include zero, this indicates that the effect of social time on happiness is statistically significant, suggesting there is a meaningful relationship between them. A positive confidence interval would indicate that social time has a positive impact on happiness. If the confidence interval includes zero, this means that the effect is not statistically significant, and there may not be enough evidence to conclude that social time influences happiness."
   ]
  },
  {
   "cell_type": "markdown",
   "id": "270affdd",
   "metadata": {},
   "source": [
    "· Hypothesis for possible results"
   ]
  },
  {
   "cell_type": "markdown",
   "id": "9b447689",
   "metadata": {},
   "source": [
    "1.Correlation analysis and linear regression analysis: The life satisfaction score is significantly positively correlated with social time, and it forms a linear trend, for increased social interaction contributes to higher happiness due to emotional support, reduced loneliness, and greater overall life satisfaction."
   ]
  },
  {
   "cell_type": "markdown",
   "id": "0e97db25",
   "metadata": {},
   "source": [
    "2.Hypothesis testing: Individuals who engage in more social activities will have higher happiness scores compared to those with limited social time because social interactions are commonly linked to emotional well-being and support, which can positively impact happiness levels. More time spent with friends, family, or in social gatherings could provide individuals with greater emotional satisfaction and reduce feelings of loneliness, leading to increased happiness."
   ]
  },
  {
   "cell_type": "markdown",
   "id": "5d9f84e3",
   "metadata": {},
   "source": [
    "3.Confidence interval: The confidence interval for the regression coefficient of social time will be positive and will not include zero. This would suggest that increased social time is associated with higher happiness levels, for social time often enhances emotional support, reduces feelings of isolation, and contributes to overall well-being."
   ]
  },
  {
   "cell_type": "markdown",
   "id": "65ac30e3",
   "metadata": {},
   "source": []
  }
 ],
 "metadata": {
  "kernelspec": {
   "display_name": "Python 3 (ipykernel)",
   "language": "python",
   "name": "python3"
  },
  "language_info": {
   "codemirror_mode": {
    "name": "ipython",
    "version": 3
   },
   "file_extension": ".py",
   "mimetype": "text/x-python",
   "name": "python",
   "nbconvert_exporter": "python",
   "pygments_lexer": "ipython3",
   "version": "3.11.6"
  }
 },
 "nbformat": 4,
 "nbformat_minor": 5
}
